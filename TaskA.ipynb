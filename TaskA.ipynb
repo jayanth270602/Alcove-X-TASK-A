{
  "nbformat": 4,
  "nbformat_minor": 0,
  "metadata": {
    "colab": {
      "provenance": []
    },
    "kernelspec": {
      "name": "python3",
      "display_name": "Python 3"
    },
    "language_info": {
      "name": "python"
    }
  },
  "cells": [
    {
      "cell_type": "markdown",
      "source": [
        "**Text prediction**"
      ],
      "metadata": {
        "id": "vK4DYh0GQZE1"
      }
    },
    {
      "cell_type": "code",
      "source": [
        "import tensorflow as tf\n",
        "from tensorflow.keras.preprocessing.text import Tokenizer\n",
        "from tensorflow.keras.layers import Embedding, LSTM, Dense\n",
        "from tensorflow.keras.models import Sequential\n",
        "from tensorflow.keras.utils import to_categorical\n",
        "from tensorflow.keras.optimizers import Adam\n",
        "import pickle\n",
        "import numpy as np\n",
        "import os"
      ],
      "metadata": {
        "id": "6MWYqeMeQcFp"
      },
      "execution_count": 2,
      "outputs": []
    },
    {
      "cell_type": "code",
      "source": [
        "from google.colab import files\n",
        "uploaded = files.upload()"
      ],
      "metadata": {
        "colab": {
          "base_uri": "https://localhost:8080/",
          "height": 73
        },
        "id": "rp7PMf2BQslK",
        "outputId": "da83e991-8378-4edf-aa37-d4c02cc38d93"
      },
      "execution_count": 3,
      "outputs": [
        {
          "output_type": "display_data",
          "data": {
            "text/plain": [
              "<IPython.core.display.HTML object>"
            ],
            "text/html": [
              "\n",
              "     <input type=\"file\" id=\"files-be1561d6-0532-4272-a0a2-73d4926f9fd7\" name=\"files[]\" multiple disabled\n",
              "        style=\"border:none\" />\n",
              "     <output id=\"result-be1561d6-0532-4272-a0a2-73d4926f9fd7\">\n",
              "      Upload widget is only available when the cell has been executed in the\n",
              "      current browser session. Please rerun this cell to enable.\n",
              "      </output>\n",
              "      <script>// Copyright 2017 Google LLC\n",
              "//\n",
              "// Licensed under the Apache License, Version 2.0 (the \"License\");\n",
              "// you may not use this file except in compliance with the License.\n",
              "// You may obtain a copy of the License at\n",
              "//\n",
              "//      http://www.apache.org/licenses/LICENSE-2.0\n",
              "//\n",
              "// Unless required by applicable law or agreed to in writing, software\n",
              "// distributed under the License is distributed on an \"AS IS\" BASIS,\n",
              "// WITHOUT WARRANTIES OR CONDITIONS OF ANY KIND, either express or implied.\n",
              "// See the License for the specific language governing permissions and\n",
              "// limitations under the License.\n",
              "\n",
              "/**\n",
              " * @fileoverview Helpers for google.colab Python module.\n",
              " */\n",
              "(function(scope) {\n",
              "function span(text, styleAttributes = {}) {\n",
              "  const element = document.createElement('span');\n",
              "  element.textContent = text;\n",
              "  for (const key of Object.keys(styleAttributes)) {\n",
              "    element.style[key] = styleAttributes[key];\n",
              "  }\n",
              "  return element;\n",
              "}\n",
              "\n",
              "// Max number of bytes which will be uploaded at a time.\n",
              "const MAX_PAYLOAD_SIZE = 100 * 1024;\n",
              "\n",
              "function _uploadFiles(inputId, outputId) {\n",
              "  const steps = uploadFilesStep(inputId, outputId);\n",
              "  const outputElement = document.getElementById(outputId);\n",
              "  // Cache steps on the outputElement to make it available for the next call\n",
              "  // to uploadFilesContinue from Python.\n",
              "  outputElement.steps = steps;\n",
              "\n",
              "  return _uploadFilesContinue(outputId);\n",
              "}\n",
              "\n",
              "// This is roughly an async generator (not supported in the browser yet),\n",
              "// where there are multiple asynchronous steps and the Python side is going\n",
              "// to poll for completion of each step.\n",
              "// This uses a Promise to block the python side on completion of each step,\n",
              "// then passes the result of the previous step as the input to the next step.\n",
              "function _uploadFilesContinue(outputId) {\n",
              "  const outputElement = document.getElementById(outputId);\n",
              "  const steps = outputElement.steps;\n",
              "\n",
              "  const next = steps.next(outputElement.lastPromiseValue);\n",
              "  return Promise.resolve(next.value.promise).then((value) => {\n",
              "    // Cache the last promise value to make it available to the next\n",
              "    // step of the generator.\n",
              "    outputElement.lastPromiseValue = value;\n",
              "    return next.value.response;\n",
              "  });\n",
              "}\n",
              "\n",
              "/**\n",
              " * Generator function which is called between each async step of the upload\n",
              " * process.\n",
              " * @param {string} inputId Element ID of the input file picker element.\n",
              " * @param {string} outputId Element ID of the output display.\n",
              " * @return {!Iterable<!Object>} Iterable of next steps.\n",
              " */\n",
              "function* uploadFilesStep(inputId, outputId) {\n",
              "  const inputElement = document.getElementById(inputId);\n",
              "  inputElement.disabled = false;\n",
              "\n",
              "  const outputElement = document.getElementById(outputId);\n",
              "  outputElement.innerHTML = '';\n",
              "\n",
              "  const pickedPromise = new Promise((resolve) => {\n",
              "    inputElement.addEventListener('change', (e) => {\n",
              "      resolve(e.target.files);\n",
              "    });\n",
              "  });\n",
              "\n",
              "  const cancel = document.createElement('button');\n",
              "  inputElement.parentElement.appendChild(cancel);\n",
              "  cancel.textContent = 'Cancel upload';\n",
              "  const cancelPromise = new Promise((resolve) => {\n",
              "    cancel.onclick = () => {\n",
              "      resolve(null);\n",
              "    };\n",
              "  });\n",
              "\n",
              "  // Wait for the user to pick the files.\n",
              "  const files = yield {\n",
              "    promise: Promise.race([pickedPromise, cancelPromise]),\n",
              "    response: {\n",
              "      action: 'starting',\n",
              "    }\n",
              "  };\n",
              "\n",
              "  cancel.remove();\n",
              "\n",
              "  // Disable the input element since further picks are not allowed.\n",
              "  inputElement.disabled = true;\n",
              "\n",
              "  if (!files) {\n",
              "    return {\n",
              "      response: {\n",
              "        action: 'complete',\n",
              "      }\n",
              "    };\n",
              "  }\n",
              "\n",
              "  for (const file of files) {\n",
              "    const li = document.createElement('li');\n",
              "    li.append(span(file.name, {fontWeight: 'bold'}));\n",
              "    li.append(span(\n",
              "        `(${file.type || 'n/a'}) - ${file.size} bytes, ` +\n",
              "        `last modified: ${\n",
              "            file.lastModifiedDate ? file.lastModifiedDate.toLocaleDateString() :\n",
              "                                    'n/a'} - `));\n",
              "    const percent = span('0% done');\n",
              "    li.appendChild(percent);\n",
              "\n",
              "    outputElement.appendChild(li);\n",
              "\n",
              "    const fileDataPromise = new Promise((resolve) => {\n",
              "      const reader = new FileReader();\n",
              "      reader.onload = (e) => {\n",
              "        resolve(e.target.result);\n",
              "      };\n",
              "      reader.readAsArrayBuffer(file);\n",
              "    });\n",
              "    // Wait for the data to be ready.\n",
              "    let fileData = yield {\n",
              "      promise: fileDataPromise,\n",
              "      response: {\n",
              "        action: 'continue',\n",
              "      }\n",
              "    };\n",
              "\n",
              "    // Use a chunked sending to avoid message size limits. See b/62115660.\n",
              "    let position = 0;\n",
              "    do {\n",
              "      const length = Math.min(fileData.byteLength - position, MAX_PAYLOAD_SIZE);\n",
              "      const chunk = new Uint8Array(fileData, position, length);\n",
              "      position += length;\n",
              "\n",
              "      const base64 = btoa(String.fromCharCode.apply(null, chunk));\n",
              "      yield {\n",
              "        response: {\n",
              "          action: 'append',\n",
              "          file: file.name,\n",
              "          data: base64,\n",
              "        },\n",
              "      };\n",
              "\n",
              "      let percentDone = fileData.byteLength === 0 ?\n",
              "          100 :\n",
              "          Math.round((position / fileData.byteLength) * 100);\n",
              "      percent.textContent = `${percentDone}% done`;\n",
              "\n",
              "    } while (position < fileData.byteLength);\n",
              "  }\n",
              "\n",
              "  // All done.\n",
              "  yield {\n",
              "    response: {\n",
              "      action: 'complete',\n",
              "    }\n",
              "  };\n",
              "}\n",
              "\n",
              "scope.google = scope.google || {};\n",
              "scope.google.colab = scope.google.colab || {};\n",
              "scope.google.colab._files = {\n",
              "  _uploadFiles,\n",
              "  _uploadFilesContinue,\n",
              "};\n",
              "})(self);\n",
              "</script> "
            ]
          },
          "metadata": {}
        },
        {
          "output_type": "stream",
          "name": "stdout",
          "text": [
            "Saving pg5200.txt to pg5200.txt\n"
          ]
        }
      ]
    },
    {
      "cell_type": "code",
      "source": [
        "file = open(\"pg5200.txt\", \"r\", encoding = \"utf8\")\n",
        "\n",
        "# store file in list\n",
        "lines = []\n",
        "for i in file:\n",
        "    lines.append(i)\n",
        "\n",
        "# Convert list to string\n",
        "data = \"\"\n",
        "for i in lines:\n",
        "  data = ' '. join(lines) \n",
        "\n",
        "#replace unnecessary stuff with space\n",
        "data = data.replace('\\n', '').replace('\\r', '').replace('\\ufeff', '').replace('“','').replace('”','')  #new line, carriage return, unicode character --> replace by space\n",
        "\n",
        "#remove unnecessary spaces \n",
        "data = data.split()\n",
        "data = ' '.join(data)\n",
        "data[:500]"
      ],
      "metadata": {
        "colab": {
          "base_uri": "https://localhost:8080/",
          "height": 87
        },
        "id": "nwFddHskRHVC",
        "outputId": "ff68df43-a73d-4af1-c137-241c228b4bed"
      },
      "execution_count": 4,
      "outputs": [
        {
          "output_type": "execute_result",
          "data": {
            "text/plain": [
              "'The Project Gutenberg EBook of Metamorphosis, by Franz Kafka Translated by David Wyllie. This eBook is for the use of anyone anywhere at no cost and with almost no restrictions whatsoever. You may copy it, give it away or re-use it under the terms of the Project Gutenberg License included with this eBook or online at www.gutenberg.org ** This is a COPYRIGHTED Project Gutenberg eBook, Details Below ** ** Please follow the copyright guidelines in this file. ** Title: Metamorphosis Author: Franz Ka'"
            ],
            "application/vnd.google.colaboratory.intrinsic+json": {
              "type": "string"
            }
          },
          "metadata": {},
          "execution_count": 4
        }
      ]
    },
    {
      "cell_type": "code",
      "source": [
        "len(data)"
      ],
      "metadata": {
        "colab": {
          "base_uri": "https://localhost:8080/"
        },
        "id": "HNfVSp1YRWlq",
        "outputId": "2f630ad4-00df-4cd3-8ff6-16e92786e224"
      },
      "execution_count": 5,
      "outputs": [
        {
          "output_type": "execute_result",
          "data": {
            "text/plain": [
              "138048"
            ]
          },
          "metadata": {},
          "execution_count": 5
        }
      ]
    },
    {
      "cell_type": "code",
      "source": [
        "tokenizer = Tokenizer()\n",
        "tokenizer.fit_on_texts([data])\n",
        "\n",
        "# saving the tokenizer for predict function\n",
        "pickle.dump(tokenizer, open('token.pkl', 'wb'))\n",
        "\n",
        "sequence_data = tokenizer.texts_to_sequences([data])[0]\n",
        "sequence_data[:15]"
      ],
      "metadata": {
        "colab": {
          "base_uri": "https://localhost:8080/"
        },
        "id": "ec3teaVFRaIj",
        "outputId": "59c9e159-9309-4d58-cc0e-85ad0a87e470"
      },
      "execution_count": 6,
      "outputs": [
        {
          "output_type": "execute_result",
          "data": {
            "text/plain": [
              "[1, 45, 43, 283, 5, 511, 55, 687, 688, 847, 55, 593, 594, 27, 283]"
            ]
          },
          "metadata": {},
          "execution_count": 6
        }
      ]
    },
    {
      "cell_type": "code",
      "source": [
        "len(sequence_data)"
      ],
      "metadata": {
        "colab": {
          "base_uri": "https://localhost:8080/"
        },
        "id": "IkuJ7EtUR3QF",
        "outputId": "74bfd739-55b5-4445-d315-e82f976030b2"
      },
      "execution_count": 7,
      "outputs": [
        {
          "output_type": "execute_result",
          "data": {
            "text/plain": [
              "25309"
            ]
          },
          "metadata": {},
          "execution_count": 7
        }
      ]
    },
    {
      "cell_type": "code",
      "source": [
        "vocab_size = len(tokenizer.word_index) + 1\n",
        "print(vocab_size)"
      ],
      "metadata": {
        "colab": {
          "base_uri": "https://localhost:8080/"
        },
        "id": "1oBtqsy7R5vz",
        "outputId": "9f5430dd-2db5-4fcc-c8e2-5312bd1789c6"
      },
      "execution_count": 8,
      "outputs": [
        {
          "output_type": "stream",
          "name": "stdout",
          "text": [
            "3068\n"
          ]
        }
      ]
    },
    {
      "cell_type": "code",
      "source": [
        "sequences = []\n",
        "\n",
        "for i in range(3, len(sequence_data)):\n",
        "    words = sequence_data[i-3:i+1]\n",
        "    sequences.append(words)\n",
        "    \n",
        "print(\"The Length of sequences are: \", len(sequences))\n",
        "sequences = np.array(sequences)\n",
        "sequences[:10]"
      ],
      "metadata": {
        "colab": {
          "base_uri": "https://localhost:8080/"
        },
        "id": "9NAHplDyR8UH",
        "outputId": "173af9fd-fbda-47c8-98ed-b0ffbb825e9d"
      },
      "execution_count": 9,
      "outputs": [
        {
          "output_type": "stream",
          "name": "stdout",
          "text": [
            "The Length of sequences are:  25306\n"
          ]
        },
        {
          "output_type": "execute_result",
          "data": {
            "text/plain": [
              "array([[  1,  45,  43, 283],\n",
              "       [ 45,  43, 283,   5],\n",
              "       [ 43, 283,   5, 511],\n",
              "       [283,   5, 511,  55],\n",
              "       [  5, 511,  55, 687],\n",
              "       [511,  55, 687, 688],\n",
              "       [ 55, 687, 688, 847],\n",
              "       [687, 688, 847,  55],\n",
              "       [688, 847,  55, 593],\n",
              "       [847,  55, 593, 594]])"
            ]
          },
          "metadata": {},
          "execution_count": 9
        }
      ]
    },
    {
      "cell_type": "code",
      "source": [
        "X = []\n",
        "y = []\n",
        "\n",
        "for i in sequences:\n",
        "    X.append(i[0:3])\n",
        "    y.append(i[3])\n",
        "    \n",
        "X = np.array(X)\n",
        "y = np.array(y)"
      ],
      "metadata": {
        "id": "FxtKJ6hbSZCm"
      },
      "execution_count": 10,
      "outputs": []
    },
    {
      "cell_type": "code",
      "source": [
        "print(\"Data: \", X[:10])\n",
        "print(\"Response: \", y[:10])"
      ],
      "metadata": {
        "colab": {
          "base_uri": "https://localhost:8080/"
        },
        "id": "FFFMnNhWSbZY",
        "outputId": "7954dac2-7507-4c1c-86f0-c92dcec7912f"
      },
      "execution_count": 11,
      "outputs": [
        {
          "output_type": "stream",
          "name": "stdout",
          "text": [
            "Data:  [[  1  45  43]\n",
            " [ 45  43 283]\n",
            " [ 43 283   5]\n",
            " [283   5 511]\n",
            " [  5 511  55]\n",
            " [511  55 687]\n",
            " [ 55 687 688]\n",
            " [687 688 847]\n",
            " [688 847  55]\n",
            " [847  55 593]]\n",
            "Response:  [283   5 511  55 687 688 847  55 593 594]\n"
          ]
        }
      ]
    },
    {
      "cell_type": "code",
      "source": [
        "y = to_categorical(y, num_classes=vocab_size)\n",
        "y[:5]"
      ],
      "metadata": {
        "colab": {
          "base_uri": "https://localhost:8080/"
        },
        "id": "_AMlLyTrSnG3",
        "outputId": "49404d1f-b3bc-4ace-bba2-bdc9a18e5178"
      },
      "execution_count": 12,
      "outputs": [
        {
          "output_type": "execute_result",
          "data": {
            "text/plain": [
              "array([[0., 0., 0., ..., 0., 0., 0.],\n",
              "       [0., 0., 0., ..., 0., 0., 0.],\n",
              "       [0., 0., 0., ..., 0., 0., 0.],\n",
              "       [0., 0., 0., ..., 0., 0., 0.],\n",
              "       [0., 0., 0., ..., 0., 0., 0.]], dtype=float32)"
            ]
          },
          "metadata": {},
          "execution_count": 12
        }
      ]
    },
    {
      "cell_type": "markdown",
      "source": [
        "Creating the model"
      ],
      "metadata": {
        "id": "F7_Uux4tSrj5"
      }
    },
    {
      "cell_type": "code",
      "source": [
        "model = Sequential()\n",
        "model.add(Embedding(vocab_size, 10, input_length=3))\n",
        "model.add(LSTM(1000, return_sequences=True))\n",
        "model.add(LSTM(1000))\n",
        "model.add(Dense(1000, activation=\"relu\"))\n",
        "model.add(Dense(vocab_size, activation=\"softmax\"))"
      ],
      "metadata": {
        "id": "YbDqs3cFStn5"
      },
      "execution_count": 13,
      "outputs": []
    },
    {
      "cell_type": "code",
      "source": [
        "model.summary()"
      ],
      "metadata": {
        "colab": {
          "base_uri": "https://localhost:8080/"
        },
        "id": "cAMg65W9Syz1",
        "outputId": "2e5f4922-d49b-4b83-eff9-f70172ec93ab"
      },
      "execution_count": 14,
      "outputs": [
        {
          "output_type": "stream",
          "name": "stdout",
          "text": [
            "Model: \"sequential\"\n",
            "_________________________________________________________________\n",
            " Layer (type)                Output Shape              Param #   \n",
            "=================================================================\n",
            " embedding (Embedding)       (None, 3, 10)             30680     \n",
            "                                                                 \n",
            " lstm (LSTM)                 (None, 3, 1000)           4044000   \n",
            "                                                                 \n",
            " lstm_1 (LSTM)               (None, 1000)              8004000   \n",
            "                                                                 \n",
            " dense (Dense)               (None, 1000)              1001000   \n",
            "                                                                 \n",
            " dense_1 (Dense)             (None, 3068)              3071068   \n",
            "                                                                 \n",
            "=================================================================\n",
            "Total params: 16,150,748\n",
            "Trainable params: 16,150,748\n",
            "Non-trainable params: 0\n",
            "_________________________________________________________________\n"
          ]
        }
      ]
    },
    {
      "cell_type": "markdown",
      "source": [
        "PLot the model "
      ],
      "metadata": {
        "id": "pNd1kkjoS7x3"
      }
    },
    {
      "cell_type": "code",
      "source": [
        "from tensorflow import keras\n",
        "from keras.utils.vis_utils import plot_model\n",
        "\n",
        "keras.utils.plot_model(model, to_file='plot.png', show_layer_names=True)"
      ],
      "metadata": {
        "colab": {
          "base_uri": "https://localhost:8080/",
          "height": 564
        },
        "id": "KEYYDLeVS9dZ",
        "outputId": "5d827bb7-1d85-4416-847f-299bf7811a98"
      },
      "execution_count": 15,
      "outputs": [
        {
          "output_type": "execute_result",
          "data": {
            "image/png": "[encoded data removed]",
            "text/plain": [
              "<IPython.core.display.Image object>"
            ]
          },
          "metadata": {},
          "execution_count": 15
        }
      ]
    },
    {
      "cell_type": "markdown",
      "source": [
        "Build our model\n"
      ],
      "metadata": {
        "id": "uNtsLpI9TOau"
      }
    },
    {
      "cell_type": "code",
      "source": [
        "from tensorflow.keras.callbacks import ModelCheckpoint\n",
        "\n",
        "checkpoint = ModelCheckpoint(\"next_words.h5\", monitor='loss', verbose=1, save_best_only=True)\n",
        "model.compile(loss=\"categorical_crossentropy\", optimizer=Adam(learning_rate=0.001))\n",
        "model.fit(X, y, epochs=50, batch_size=64, callbacks=[checkpoint])"
      ],
      "metadata": {
        "colab": {
          "base_uri": "https://localhost:8080/"
        },
        "id": "uTfdpkGNTQ-k",
        "outputId": "911c1edb-ee1b-47f3-a3be-ecddd0e98a40"
      },
      "execution_count": 16,
      "outputs": [
        {
          "output_type": "stream",
          "name": "stdout",
          "text": [
            "Epoch 1/50\n",
            "396/396 [==============================] - ETA: 0s - loss: 6.4299\n",
            "Epoch 1: loss improved from inf to 6.42995, saving model to next_words.h5\n",
            "396/396 [==============================] - 271s 670ms/step - loss: 6.4299\n",
            "Epoch 2/50\n",
            "396/396 [==============================] - ETA: 0s - loss: 5.9913\n",
            "Epoch 2: loss improved from 6.42995 to 5.99129, saving model to next_words.h5\n",
            "396/396 [==============================] - 271s 686ms/step - loss: 5.9913\n",
            "Epoch 3/50\n",
            "396/396 [==============================] - ETA: 0s - loss: 5.6519\n",
            "Epoch 3: loss improved from 5.99129 to 5.65194, saving model to next_words.h5\n",
            "396/396 [==============================] - 276s 697ms/step - loss: 5.6519\n",
            "Epoch 4/50\n",
            "396/396 [==============================] - ETA: 0s - loss: 5.3161\n",
            "Epoch 4: loss improved from 5.65194 to 5.31609, saving model to next_words.h5\n",
            "396/396 [==============================] - 276s 698ms/step - loss: 5.3161\n",
            "Epoch 5/50\n",
            "396/396 [==============================] - ETA: 0s - loss: 5.0174\n",
            "Epoch 5: loss improved from 5.31609 to 5.01739, saving model to next_words.h5\n",
            "396/396 [==============================] - 264s 666ms/step - loss: 5.0174\n",
            "Epoch 6/50\n",
            "396/396 [==============================] - ETA: 0s - loss: 4.7724\n",
            "Epoch 6: loss improved from 5.01739 to 4.77241, saving model to next_words.h5\n",
            "396/396 [==============================] - 253s 639ms/step - loss: 4.7724\n",
            "Epoch 7/50\n",
            "396/396 [==============================] - ETA: 0s - loss: 4.5498\n",
            "Epoch 7: loss improved from 4.77241 to 4.54982, saving model to next_words.h5\n",
            "396/396 [==============================] - 255s 644ms/step - loss: 4.5498\n",
            "Epoch 8/50\n",
            "396/396 [==============================] - ETA: 0s - loss: 4.3346\n",
            "Epoch 8: loss improved from 4.54982 to 4.33463, saving model to next_words.h5\n",
            "396/396 [==============================] - 261s 659ms/step - loss: 4.3346\n",
            "Epoch 9/50\n",
            "396/396 [==============================] - ETA: 0s - loss: 4.1159\n",
            "Epoch 9: loss improved from 4.33463 to 4.11586, saving model to next_words.h5\n",
            "396/396 [==============================] - 257s 649ms/step - loss: 4.1159\n",
            "Epoch 10/50\n",
            "396/396 [==============================] - ETA: 0s - loss: 3.8779\n",
            "Epoch 10: loss improved from 4.11586 to 3.87789, saving model to next_words.h5\n",
            "396/396 [==============================] - 260s 657ms/step - loss: 3.8779\n",
            "Epoch 11/50\n",
            "396/396 [==============================] - ETA: 0s - loss: 3.6345\n",
            "Epoch 11: loss improved from 3.87789 to 3.63447, saving model to next_words.h5\n",
            "396/396 [==============================] - 257s 649ms/step - loss: 3.6345\n",
            "Epoch 12/50\n",
            "396/396 [==============================] - ETA: 0s - loss: 3.3800\n",
            "Epoch 12: loss improved from 3.63447 to 3.37996, saving model to next_words.h5\n",
            "396/396 [==============================] - 260s 658ms/step - loss: 3.3800\n",
            "Epoch 13/50\n",
            "396/396 [==============================] - ETA: 0s - loss: 3.1342\n",
            "Epoch 13: loss improved from 3.37996 to 3.13420, saving model to next_words.h5\n",
            "396/396 [==============================] - 257s 649ms/step - loss: 3.1342\n",
            "Epoch 14/50\n",
            "396/396 [==============================] - ETA: 0s - loss: 2.8899\n",
            "Epoch 14: loss improved from 3.13420 to 2.88995, saving model to next_words.h5\n",
            "396/396 [==============================] - 258s 651ms/step - loss: 2.8899\n",
            "Epoch 15/50\n",
            "396/396 [==============================] - ETA: 0s - loss: 2.6471\n",
            "Epoch 15: loss improved from 2.88995 to 2.64710, saving model to next_words.h5\n",
            "396/396 [==============================] - 264s 667ms/step - loss: 2.6471\n",
            "Epoch 16/50\n",
            "396/396 [==============================] - ETA: 0s - loss: 2.4283\n",
            "Epoch 16: loss improved from 2.64710 to 2.42826, saving model to next_words.h5\n",
            "396/396 [==============================] - 259s 653ms/step - loss: 2.4283\n",
            "Epoch 17/50\n",
            "396/396 [==============================] - ETA: 0s - loss: 2.2220\n",
            "Epoch 17: loss improved from 2.42826 to 2.22197, saving model to next_words.h5\n",
            "396/396 [==============================] - 263s 665ms/step - loss: 2.2220\n",
            "Epoch 18/50\n",
            "396/396 [==============================] - ETA: 0s - loss: 2.0258\n",
            "Epoch 18: loss improved from 2.22197 to 2.02579, saving model to next_words.h5\n",
            "396/396 [==============================] - 252s 636ms/step - loss: 2.0258\n",
            "Epoch 19/50\n",
            "396/396 [==============================] - ETA: 0s - loss: 1.8448\n",
            "Epoch 19: loss improved from 2.02579 to 1.84485, saving model to next_words.h5\n",
            "396/396 [==============================] - 252s 637ms/step - loss: 1.8448\n",
            "Epoch 20/50\n",
            "396/396 [==============================] - ETA: 0s - loss: 1.6766\n",
            "Epoch 20: loss improved from 1.84485 to 1.67662, saving model to next_words.h5\n",
            "396/396 [==============================] - 260s 656ms/step - loss: 1.6766\n",
            "Epoch 21/50\n",
            "396/396 [==============================] - ETA: 0s - loss: 1.4986\n",
            "Epoch 21: loss improved from 1.67662 to 1.49861, saving model to next_words.h5\n",
            "396/396 [==============================] - 254s 642ms/step - loss: 1.4986\n",
            "Epoch 22/50\n",
            "396/396 [==============================] - ETA: 0s - loss: 1.3486\n",
            "Epoch 22: loss improved from 1.49861 to 1.34857, saving model to next_words.h5\n",
            "396/396 [==============================] - 257s 650ms/step - loss: 1.3486\n",
            "Epoch 23/50\n",
            "396/396 [==============================] - ETA: 0s - loss: 1.2061\n",
            "Epoch 23: loss improved from 1.34857 to 1.20605, saving model to next_words.h5\n",
            "396/396 [==============================] - 253s 638ms/step - loss: 1.2061\n",
            "Epoch 24/50\n",
            "396/396 [==============================] - ETA: 0s - loss: 1.0683\n",
            "Epoch 24: loss improved from 1.20605 to 1.06826, saving model to next_words.h5\n",
            "396/396 [==============================] - 254s 641ms/step - loss: 1.0683\n",
            "Epoch 25/50\n",
            "396/396 [==============================] - ETA: 0s - loss: 0.9458\n",
            "Epoch 25: loss improved from 1.06826 to 0.94575, saving model to next_words.h5\n",
            "396/396 [==============================] - 251s 633ms/step - loss: 0.9458\n",
            "Epoch 26/50\n",
            "396/396 [==============================] - ETA: 0s - loss: 0.8461\n",
            "Epoch 26: loss improved from 0.94575 to 0.84608, saving model to next_words.h5\n",
            "396/396 [==============================] - 252s 635ms/step - loss: 0.8461\n",
            "Epoch 27/50\n",
            "396/396 [==============================] - ETA: 0s - loss: 0.7511\n",
            "Epoch 27: loss improved from 0.84608 to 0.75114, saving model to next_words.h5\n",
            "396/396 [==============================] - 254s 641ms/step - loss: 0.7511\n",
            "Epoch 28/50\n",
            "396/396 [==============================] - ETA: 0s - loss: 0.6725\n",
            "Epoch 28: loss improved from 0.75114 to 0.67249, saving model to next_words.h5\n",
            "396/396 [==============================] - 249s 628ms/step - loss: 0.6725\n",
            "Epoch 29/50\n",
            "396/396 [==============================] - ETA: 0s - loss: 0.6149\n",
            "Epoch 29: loss improved from 0.67249 to 0.61488, saving model to next_words.h5\n",
            "396/396 [==============================] - 247s 625ms/step - loss: 0.6149\n",
            "Epoch 30/50\n",
            "396/396 [==============================] - ETA: 0s - loss: 0.5825\n",
            "Epoch 30: loss improved from 0.61488 to 0.58245, saving model to next_words.h5\n",
            "396/396 [==============================] - 256s 646ms/step - loss: 0.5825\n",
            "Epoch 31/50\n",
            "396/396 [==============================] - ETA: 0s - loss: 0.5443\n",
            "Epoch 31: loss improved from 0.58245 to 0.54433, saving model to next_words.h5\n",
            "396/396 [==============================] - 252s 637ms/step - loss: 0.5443\n",
            "Epoch 32/50\n",
            "396/396 [==============================] - ETA: 0s - loss: 0.5042\n",
            "Epoch 32: loss improved from 0.54433 to 0.50416, saving model to next_words.h5\n",
            "396/396 [==============================] - 250s 632ms/step - loss: 0.5042\n",
            "Epoch 33/50\n",
            "396/396 [==============================] - ETA: 0s - loss: 0.4861\n",
            "Epoch 33: loss improved from 0.50416 to 0.48611, saving model to next_words.h5\n",
            "396/396 [==============================] - 259s 655ms/step - loss: 0.4861\n",
            "Epoch 34/50\n",
            "396/396 [==============================] - ETA: 0s - loss: 0.4571\n",
            "Epoch 34: loss improved from 0.48611 to 0.45712, saving model to next_words.h5\n",
            "396/396 [==============================] - 253s 638ms/step - loss: 0.4571\n",
            "Epoch 35/50\n",
            "396/396 [==============================] - ETA: 0s - loss: 0.4455\n",
            "Epoch 35: loss improved from 0.45712 to 0.44553, saving model to next_words.h5\n",
            "396/396 [==============================] - 248s 627ms/step - loss: 0.4455\n",
            "Epoch 36/50\n",
            "396/396 [==============================] - ETA: 0s - loss: 0.4306\n",
            "Epoch 36: loss improved from 0.44553 to 0.43065, saving model to next_words.h5\n",
            "396/396 [==============================] - 254s 640ms/step - loss: 0.4306\n",
            "Epoch 37/50\n",
            "396/396 [==============================] - ETA: 0s - loss: 0.4172\n",
            "Epoch 37: loss improved from 0.43065 to 0.41716, saving model to next_words.h5\n",
            "396/396 [==============================] - 252s 636ms/step - loss: 0.4172\n",
            "Epoch 38/50\n",
            "396/396 [==============================] - ETA: 0s - loss: 0.4127\n",
            "Epoch 38: loss improved from 0.41716 to 0.41267, saving model to next_words.h5\n",
            "396/396 [==============================] - 254s 642ms/step - loss: 0.4127\n",
            "Epoch 39/50\n",
            "396/396 [==============================] - ETA: 0s - loss: 0.4027\n",
            "Epoch 39: loss improved from 0.41267 to 0.40270, saving model to next_words.h5\n",
            "396/396 [==============================] - 262s 661ms/step - loss: 0.4027\n",
            "Epoch 40/50\n",
            "396/396 [==============================] - ETA: 0s - loss: 0.3946\n",
            "Epoch 40: loss improved from 0.40270 to 0.39460, saving model to next_words.h5\n",
            "396/396 [==============================] - 255s 644ms/step - loss: 0.3946\n",
            "Epoch 41/50\n",
            "396/396 [==============================] - ETA: 0s - loss: 0.3938\n",
            "Epoch 41: loss improved from 0.39460 to 0.39383, saving model to next_words.h5\n",
            "396/396 [==============================] - 259s 653ms/step - loss: 0.3938\n",
            "Epoch 42/50\n",
            "396/396 [==============================] - ETA: 0s - loss: 0.3775\n",
            "Epoch 42: loss improved from 0.39383 to 0.37752, saving model to next_words.h5\n",
            "396/396 [==============================] - 253s 639ms/step - loss: 0.3775\n",
            "Epoch 43/50\n",
            "396/396 [==============================] - ETA: 0s - loss: 0.3670\n",
            "Epoch 43: loss improved from 0.37752 to 0.36705, saving model to next_words.h5\n",
            "396/396 [==============================] - 253s 639ms/step - loss: 0.3670\n",
            "Epoch 44/50\n",
            "396/396 [==============================] - ETA: 0s - loss: 0.3553\n",
            "Epoch 44: loss improved from 0.36705 to 0.35533, saving model to next_words.h5\n",
            "396/396 [==============================] - 255s 643ms/step - loss: 0.3553\n",
            "Epoch 45/50\n",
            "396/396 [==============================] - ETA: 0s - loss: 0.3503\n",
            "Epoch 45: loss improved from 0.35533 to 0.35030, saving model to next_words.h5\n",
            "396/396 [==============================] - 254s 642ms/step - loss: 0.3503\n",
            "Epoch 46/50\n",
            "396/396 [==============================] - ETA: 0s - loss: 0.3608\n",
            "Epoch 46: loss did not improve from 0.35030\n",
            "396/396 [==============================] - 268s 676ms/step - loss: 0.3608\n",
            "Epoch 47/50\n",
            "396/396 [==============================] - ETA: 0s - loss: 0.3487\n",
            "Epoch 47: loss improved from 0.35030 to 0.34874, saving model to next_words.h5\n",
            "396/396 [==============================] - 258s 653ms/step - loss: 0.3487\n",
            "Epoch 48/50\n",
            "396/396 [==============================] - ETA: 0s - loss: 0.3403\n",
            "Epoch 48: loss improved from 0.34874 to 0.34035, saving model to next_words.h5\n",
            "396/396 [==============================] - 257s 649ms/step - loss: 0.3403\n",
            "Epoch 49/50\n",
            "396/396 [==============================] - ETA: 0s - loss: 0.3310\n",
            "Epoch 49: loss improved from 0.34035 to 0.33099, saving model to next_words.h5\n",
            "396/396 [==============================] - 257s 648ms/step - loss: 0.3310\n",
            "Epoch 50/50\n",
            "396/396 [==============================] - ETA: 0s - loss: 0.3250\n",
            "Epoch 50: loss improved from 0.33099 to 0.32496, saving model to next_words.h5\n",
            "396/396 [==============================] - 261s 659ms/step - loss: 0.3250\n"
          ]
        },
        {
          "output_type": "execute_result",
          "data": {
            "text/plain": [
              "<keras.callbacks.History at 0x7f9d219c32e0>"
            ]
          },
          "metadata": {},
          "execution_count": 16
        }
      ]
    },
    {
      "cell_type": "code",
      "source": [
        "from tensorflow.keras.models import load_model\n",
        "import numpy as np\n",
        "import pickle\n",
        "\n",
        "# Load the model and tokenizer\n",
        "model = load_model('next_words.h5')\n",
        "tokenizer = pickle.load(open('token.pkl', 'rb'))\n",
        "\n",
        "def Predict_Next_Words(model, tokenizer, text):\n",
        "\n",
        "  sequence = tokenizer.texts_to_sequences([text])\n",
        "  sequence = np.array(sequence)\n",
        "  preds = np.argmax(model.predict(sequence))\n",
        "  predicted_word = \"\"\n",
        "  \n",
        "  for key, value in tokenizer.word_index.items():\n",
        "      if value == preds:\n",
        "          predicted_word = key\n",
        "          break\n",
        "  \n",
        "  print(predicted_word)\n",
        "  return predicted_word"
      ],
      "metadata": {
        "id": "CSeU_3CBTfp2"
      },
      "execution_count": 17,
      "outputs": []
    },
    {
      "cell_type": "code",
      "source": [
        "while(True):\n",
        "  text = input(\"Enter your line: \")\n",
        "  \n",
        "  if text == \"0\":\n",
        "      print(\"Execution completed.....\")\n",
        "      break\n",
        "  \n",
        "  else:\n",
        "      try:\n",
        "          text = text.split(\" \")\n",
        "          text = text[-3:]\n",
        "          print(text)\n",
        "        \n",
        "          Predict_Next_Words(model, tokenizer, text)\n",
        "          \n",
        "      except Exception as e:\n",
        "        print(\"Error occurred: \",e)\n",
        "        continue"
      ],
      "metadata": {
        "colab": {
          "base_uri": "https://localhost:8080/",
          "height": 1000
        },
        "id": "BILy3hCxBtgy",
        "outputId": "d079104d-b8ef-4479-8fa9-88814705fe3a"
      },
      "execution_count": 18,
      "outputs": [
        {
          "output_type": "stream",
          "name": "stdout",
          "text": [
            "Enter your line: The first thing he\n",
            "['first', 'thing', 'he']\n",
            "1/1 [==============================] - 1s 993ms/step\n",
            "wanted\n",
            "Enter your line:  This he managed quite \n",
            "['managed', 'quite', '']\n",
            "1/1 [==============================] - 1s 1s/step\n",
            "that\n",
            "Enter your line: he let himself fall\n",
            "['let', 'himself', 'fall']\n",
            "1/1 [==============================] - 0s 43ms/step\n",
            "against\n",
            "Enter your line: the little legs would find a\n",
            "['would', 'find', 'a']\n",
            "1/1 [==============================] - 0s 45ms/step\n",
            "use\n",
            "Enter your line: For a moment everything remained\n",
            "['moment', 'everything', 'remained']\n",
            "1/1 [==============================] - 0s 42ms/step\n",
            "quiet\n",
            "Enter your line: \"Gregor\", said his father now from the room to his\n",
            "['room', 'to', 'his']\n",
            "1/1 [==============================] - 0s 53ms/step\n",
            "left\n",
            "Enter your line: his father impatiently, knocking\n",
            "['father', 'impatiently,', 'knocking']\n",
            "1/1 [==============================] - 0s 42ms/step\n",
            "in\n",
            "Enter your line: The chief clerk now raised\n",
            "['clerk', 'now', 'raised']\n",
            "1/1 [==============================] - 0s 60ms/step\n",
            "his\n",
            "Enter your line:  I no longer feel any wish\n",
            "['feel', 'any', 'wish']\n",
            "1/1 [==============================] - 0s 42ms/step\n",
            "whatsoever\n",
            "Enter your line: I'm still in\n",
            "[\"I'm\", 'still', 'in']\n",
            "1/1 [==============================] - 0s 41ms/step\n",
            "bed\n",
            "Enter your line: By now he had also\n",
            "['he', 'had', 'also']\n",
            "1/1 [==============================] - 0s 40ms/step\n",
            "calmed\n",
            "Enter your line: How had his sister\n",
            "['had', 'his', 'sister']\n",
            "1/1 [==============================] - 0s 40ms/step\n",
            "managed\n",
            "Enter your line: locksmith he expected great and\n",
            "['expected', 'great', 'and']\n",
            "1/1 [==============================] - 0s 43ms/step\n",
            "surprising\n",
            "Enter your line: along with his hat\n",
            "['with', 'his', 'hat']\n",
            "1/1 [==============================] - 0s 40ms/step\n",
            "and\n",
            "Enter your line: it sounded to Gregor as if there was now more than one father behind him; it was not a pleasant experience, and\n",
            "['pleasant', 'experience,', 'and']\n",
            "1/1 [==============================] - 0s 42ms/step\n",
            "the\n",
            "Enter your line: He spent the whole\n",
            "['spent', 'the', 'whole']\n",
            "1/1 [==============================] - 0s 45ms/step\n",
            "night\n"
          ]
        },
        {
          "output_type": "error",
          "ename": "KeyboardInterrupt",
          "evalue": "ignored",
          "traceback": [
            "\u001b[0;31m---------------------------------------------------------------------------\u001b[0m",
            "\u001b[0;31mKeyboardInterrupt\u001b[0m                         Traceback (most recent call last)",
            "\u001b[0;32m<ipython-input-18-10cbba31caae>\u001b[0m in \u001b[0;36m<cell line: 2>\u001b[0;34m()\u001b[0m\n\u001b[1;32m      1\u001b[0m \u001b[0;32mwhile\u001b[0m\u001b[0;34m(\u001b[0m\u001b[0;32mTrue\u001b[0m\u001b[0;34m)\u001b[0m\u001b[0;34m:\u001b[0m\u001b[0;34m\u001b[0m\u001b[0;34m\u001b[0m\u001b[0m\n\u001b[0;32m----> 2\u001b[0;31m   \u001b[0mtext\u001b[0m \u001b[0;34m=\u001b[0m \u001b[0minput\u001b[0m\u001b[0;34m(\u001b[0m\u001b[0;34m\"Enter your line: \"\u001b[0m\u001b[0;34m)\u001b[0m\u001b[0;34m\u001b[0m\u001b[0;34m\u001b[0m\u001b[0m\n\u001b[0m\u001b[1;32m      3\u001b[0m \u001b[0;34m\u001b[0m\u001b[0m\n\u001b[1;32m      4\u001b[0m   \u001b[0;32mif\u001b[0m \u001b[0mtext\u001b[0m \u001b[0;34m==\u001b[0m \u001b[0;34m\"0\"\u001b[0m\u001b[0;34m:\u001b[0m\u001b[0;34m\u001b[0m\u001b[0;34m\u001b[0m\u001b[0m\n\u001b[1;32m      5\u001b[0m       \u001b[0mprint\u001b[0m\u001b[0;34m(\u001b[0m\u001b[0;34m\"Execution completed.....\"\u001b[0m\u001b[0;34m)\u001b[0m\u001b[0;34m\u001b[0m\u001b[0;34m\u001b[0m\u001b[0m\n",
            "\u001b[0;32m/usr/local/lib/python3.9/dist-packages/ipykernel/kernelbase.py\u001b[0m in \u001b[0;36mraw_input\u001b[0;34m(self, prompt)\u001b[0m\n\u001b[1;32m    849\u001b[0m                 \u001b[0;34m\"raw_input was called, but this frontend does not support input requests.\"\u001b[0m\u001b[0;34m\u001b[0m\u001b[0;34m\u001b[0m\u001b[0m\n\u001b[1;32m    850\u001b[0m             )\n\u001b[0;32m--> 851\u001b[0;31m         return self._input_request(str(prompt),\n\u001b[0m\u001b[1;32m    852\u001b[0m             \u001b[0mself\u001b[0m\u001b[0;34m.\u001b[0m\u001b[0m_parent_ident\u001b[0m\u001b[0;34m,\u001b[0m\u001b[0;34m\u001b[0m\u001b[0;34m\u001b[0m\u001b[0m\n\u001b[1;32m    853\u001b[0m             \u001b[0mself\u001b[0m\u001b[0;34m.\u001b[0m\u001b[0m_parent_header\u001b[0m\u001b[0;34m,\u001b[0m\u001b[0;34m\u001b[0m\u001b[0;34m\u001b[0m\u001b[0m\n",
            "\u001b[0;32m/usr/local/lib/python3.9/dist-packages/ipykernel/kernelbase.py\u001b[0m in \u001b[0;36m_input_request\u001b[0;34m(self, prompt, ident, parent, password)\u001b[0m\n\u001b[1;32m    893\u001b[0m             \u001b[0;32mexcept\u001b[0m \u001b[0mKeyboardInterrupt\u001b[0m\u001b[0;34m:\u001b[0m\u001b[0;34m\u001b[0m\u001b[0;34m\u001b[0m\u001b[0m\n\u001b[1;32m    894\u001b[0m                 \u001b[0;31m# re-raise KeyboardInterrupt, to truncate traceback\u001b[0m\u001b[0;34m\u001b[0m\u001b[0;34m\u001b[0m\u001b[0m\n\u001b[0;32m--> 895\u001b[0;31m                 \u001b[0;32mraise\u001b[0m \u001b[0mKeyboardInterrupt\u001b[0m\u001b[0;34m(\u001b[0m\u001b[0;34m\"Interrupted by user\"\u001b[0m\u001b[0;34m)\u001b[0m \u001b[0;32mfrom\u001b[0m \u001b[0;32mNone\u001b[0m\u001b[0;34m\u001b[0m\u001b[0;34m\u001b[0m\u001b[0m\n\u001b[0m\u001b[1;32m    896\u001b[0m             \u001b[0;32mexcept\u001b[0m \u001b[0mException\u001b[0m \u001b[0;32mas\u001b[0m \u001b[0me\u001b[0m\u001b[0;34m:\u001b[0m\u001b[0;34m\u001b[0m\u001b[0;34m\u001b[0m\u001b[0m\n\u001b[1;32m    897\u001b[0m                 \u001b[0mself\u001b[0m\u001b[0;34m.\u001b[0m\u001b[0mlog\u001b[0m\u001b[0;34m.\u001b[0m\u001b[0mwarning\u001b[0m\u001b[0;34m(\u001b[0m\u001b[0;34m\"Invalid Message:\"\u001b[0m\u001b[0;34m,\u001b[0m \u001b[0mexc_info\u001b[0m\u001b[0;34m=\u001b[0m\u001b[0;32mTrue\u001b[0m\u001b[0;34m)\u001b[0m\u001b[0;34m\u001b[0m\u001b[0;34m\u001b[0m\u001b[0m\n",
            "\u001b[0;31mKeyboardInterrupt\u001b[0m: Interrupted by user"
          ]
        }
      ]
    }
  ]
}